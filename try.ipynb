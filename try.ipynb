{
 "cells": [
  {
   "cell_type": "code",
   "execution_count": null,
   "metadata": {},
   "outputs": [],
   "source": [
    "from sklearn.metrics import recall_score,precision_score,f1_score,accuracy_score,confusion_matrix\n",
    "from Data import *\n",
    "from utils import *\n",
    "from createFeaturesAndSearch import *\n",
    "\n",
    "from torch.utils.data import DataLoader\n",
    "from tqdm import tqdm\n",
    "import numpy as np\n",
    "import config as cfg\n",
    "transforms = T.Compose([\n",
    "\n",
    "            T.ToTensor(),\n",
    "            T.Normalize(mean = [0.485, 0.456, 0.406] , \n",
    "                        std = [0.229, 0.224, 0.225])\n",
    "\n",
    "        ])\n",
    "\n",
    "\n",
    "dataset = PlacesData(\"/Users/okanegemen/CulturalPlacesFindingProject/dataScraping/dataLast\",transforms,pd.read_csv(\"/Users/okanegemen/CulturalPlacesFindingProject/metaData/dataWithImages.csv\"))\n",
    "dataLoader = DataLoader(dataset)\n",
    "true_label_list = []\n",
    "predicted_list = []\n",
    "\n",
    "for i,(img,labels) in tqdm(enumerate(list(dataLoader)[0:3226:5]),total=646,colour=\"blue\"):\n",
    "\n",
    "    dicti = search([\"resnet50\",\"efficientnet_v2_s\"],img,5)\n",
    "    if type(dicti) is str:\n",
    "        predicted_list.append(None)\n",
    "    else:\n",
    "        predicted_list.append(dicti[\"foundedImage\"][0])\n",
    "    true_label_list.append(labels.item())\n",
    "\n",
    "\n"
   ]
  },
  {
   "cell_type": "code",
   "execution_count": null,
   "metadata": {},
   "outputs": [],
   "source": [
    "for i in range(len(predicted_list)):\n",
    "    if predicted_list[i] == None:\n",
    "       \n",
    "        predicted_list[i] =0\n"
   ]
  },
  {
   "cell_type": "code",
   "execution_count": null,
   "metadata": {},
   "outputs": [],
   "source": [
    "from sklearn.metrics import ConfusionMatrixDisplay\n",
    "import matplotlib.pyplot as plt\n",
    "disp = ConfusionMatrixDisplay(x)\n",
    "plt.figure(figsize=[50,50])\n",
    "disp.plot()\n",
    "plt.show()"
   ]
  },
  {
   "cell_type": "code",
   "execution_count": null,
   "metadata": {},
   "outputs": [],
   "source": [
    "x = confusion_matrix(true_label_list,predicted_list)"
   ]
  },
  {
   "cell_type": "code",
   "execution_count": null,
   "metadata": {},
   "outputs": [],
   "source": [
    "print(sum(np.diag(x)))"
   ]
  },
  {
   "cell_type": "code",
   "execution_count": null,
   "metadata": {},
   "outputs": [],
   "source": [
    "print(np.sum(np.diag(x))/np.sum(x))"
   ]
  },
  {
   "cell_type": "code",
   "execution_count": null,
   "metadata": {},
   "outputs": [],
   "source": []
  },
  {
   "cell_type": "code",
   "execution_count": null,
   "metadata": {},
   "outputs": [],
   "source": [
    "precision_score(true_label_list,predicted_list,labels = np.arange(0,80),average=\"weighted\")"
   ]
  },
  {
   "cell_type": "code",
   "execution_count": null,
   "metadata": {},
   "outputs": [],
   "source": [
    "recall_score(true_label_list,predicted_list,labels = np.arange(0,80),average=\"weighted\")"
   ]
  },
  {
   "cell_type": "code",
   "execution_count": null,
   "metadata": {},
   "outputs": [],
   "source": [
    "f1_score(true_label_list,predicted_list,labels = np.arange(0,80),average=\"weighted\")"
   ]
  },
  {
   "cell_type": "code",
   "execution_count": null,
   "metadata": {},
   "outputs": [],
   "source": [
    "accuracy_score(true_label_list,predicted_list)"
   ]
  },
  {
   "cell_type": "code",
   "execution_count": null,
   "metadata": {},
   "outputs": [],
   "source": [
    "for i,(img,labels) in tqdm(enumerate(list(dataLoader)[0:3226:5]),total=646,colour=\"blue\"):\n",
    "    \n",
    "\n",
    "    dicti = {\n",
    "        \"img\" : img\n",
    "    }\n",
    "    break"
   ]
  },
  {
   "cell_type": "code",
   "execution_count": null,
   "metadata": {},
   "outputs": [],
   "source": [
    "dicti[\"img\"].shape"
   ]
  },
  {
   "cell_type": "code",
   "execution_count": null,
   "metadata": {},
   "outputs": [],
   "source": [
    "import cv2 as cv\n",
    "\n",
    "\n",
    "img = cv.imread(\"/Users/okanegemen/CulturalPlacesFindingProject/WhatsApp Image 2024-01-08 at 20.34.44.jpeg\")\n",
    "\n",
    "cv.imshow(\"img\",img)\n",
    "cv.waitKey(1)\n",
    "cv.destroyAllWindows()"
   ]
  },
  {
   "cell_type": "code",
   "execution_count": null,
   "metadata": {},
   "outputs": [],
   "source": [
    "import requests\n",
    "\n",
    "imageFile = {\"image\" : open(\"/Users/okanegemen/CulturalPlacesFindingProject/dataScraping/dataLast/Vazelon_Manastırı_Trabzon/Vazelon_Manastırı_Trabzon922.png\",\"rb\")}\n",
    "\n",
    "r = requests.post(f\"http://{cfg.HOST}:{cfg.PORT}/postData\", files=imageFile)\n",
    "\n"
   ]
  },
  {
   "cell_type": "code",
   "execution_count": null,
   "metadata": {},
   "outputs": [],
   "source": [
    "getted = requests.get(f\"http://{cfg.HOST}:{cfg.PORT}/getPreds\")"
   ]
  },
  {
   "cell_type": "code",
   "execution_count": null,
   "metadata": {},
   "outputs": [],
   "source": [
    "getted.json()"
   ]
  },
  {
   "cell_type": "code",
   "execution_count": null,
   "metadata": {},
   "outputs": [],
   "source": []
  }
 ],
 "metadata": {
  "kernelspec": {
   "display_name": "Python 3.8.13 64-bit ('AI')",
   "language": "python",
   "name": "python3"
  },
  "language_info": {
   "codemirror_mode": {
    "name": "ipython",
    "version": 3
   },
   "file_extension": ".py",
   "mimetype": "text/x-python",
   "name": "python",
   "nbconvert_exporter": "python",
   "pygments_lexer": "ipython3",
   "version": "3.8.13"
  },
  "orig_nbformat": 4,
  "vscode": {
   "interpreter": {
    "hash": "096dbe33c55126c5d8db0f1b650aa2af6bd938a7d34f117fe790662238af3888"
   }
  }
 },
 "nbformat": 4,
 "nbformat_minor": 2
}
