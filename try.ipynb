{
 "cells": [
  {
   "cell_type": "code",
   "execution_count": null,
   "metadata": {},
   "outputs": [],
   "source": [
    "from sklearn.metrics import recall_score,precision_score,f1_score,accuracy_score,confusion_matrix\n",
    "from Data import *\n",
    "from utils import *\n",
    "from createFeaturesAndSearch import *\n",
    "\n",
    "from torch.utils.data import DataLoader\n",
    "from tqdm import tqdm\n",
    "import numpy as np\n",
    "import config as cfg\n",
    "transforms = T.Compose([\n",
    "\n",
    "            T.ToTensor(),\n",
    "            T.Normalize(mean = [0.485, 0.456, 0.406] , \n",
    "                        std = [0.229, 0.224, 0.225])\n",
    "\n",
    "        ])\n",
    "\n",
    "\n",
    "dataset = PlacesData(\"/Users/okanegemen/CulturalPlacesFindingProject/dataScraping/dataLast\",transforms,pd.read_csv(\"/Users/okanegemen/CulturalPlacesFindingProject/metaData/dataWithImages.csv\"))\n",
    "dataLoader = DataLoader(dataset)\n",
    "true_label_list = []\n",
    "predicted_list = []\n",
    "\n",
    "for i,(img,labels) in tqdm(enumerate(list(dataLoader)[0:3226:5]),total=646,colour=\"blue\"):\n",
    "\n",
    "    dicti = search([\"resnet50\",\"efficientnet_v2_s\"],img,5)\n",
    "    if type(dicti) is str:\n",
    "        predicted_list.append(None)\n",
    "    else:\n",
    "        predicted_list.append(dicti[\"foundedImage\"][0])\n",
    "    true_label_list.append(labels.item())\n",
    "\n",
    "\n"
   ]
  },
  {
   "cell_type": "code",
   "execution_count": null,
   "metadata": {},
   "outputs": [],
   "source": [
    "for i in range(len(predicted_list)):\n",
    "    if predicted_list[i] == None:\n",
    "       \n",
    "        predicted_list[i] =0\n"
   ]
  },
  {
   "cell_type": "code",
   "execution_count": null,
   "metadata": {},
   "outputs": [],
   "source": [
    "def deleteDistortedFiles(txtFilePath:str,dfPath:os.path)->pd.DataFrame:\n",
    "\n",
    "    with open(txtFilePath,\"r\") as f:\n",
    "        readed = f.read().splitlines()\n",
    "    f.close()\n",
    "\n",
    "    imgData = pd.read_csv(dfPath)\n",
    "    paths = imgData[\"PATHS\"].values\n",
    "    \n",
    "    first = imgData.shape[0]\n",
    "\n",
    "\n",
    "    for i,item in enumerate(paths):\n",
    "        if item.split(\"/\")[-1] in readed:\n",
    "            imgData = imgData.drop(index = i, axis=0)\n",
    "\n",
    "    imgData=imgData.reset_index().drop([\"index\"],axis=1)\n",
    "\n",
    "    return imgData\n",
    "\n",
    "    \n",
    "        \n",
    "        \n",
    "\n",
    "\n",
    "\n",
    "\n",
    "img_data = deleteDistortedFiles(\"/Users/okanegemen/CulturalPlacesFindingProject/HatalıFotolar.txt\",\"/Users/okanegemen/CulturalPlacesFindingProject/metaData/dataWithImages.csv\")\n",
    "\n",
    "    \n"
   ]
  },
  {
   "cell_type": "code",
   "execution_count": null,
   "metadata": {},
   "outputs": [],
   "source": [
    "img_data.to_csv(\"/Users/okanegemen/CulturalPlacesFindingProject/metaData/dataWithImages.csv\",index=False)"
   ]
  },
  {
   "cell_type": "code",
   "execution_count": null,
   "metadata": {},
   "outputs": [],
   "source": [
    "x = confusion_matrix(true_label_list,predicted_list)"
   ]
  },
  {
   "cell_type": "code",
   "execution_count": 106,
   "metadata": {},
   "outputs": [],
   "source": [
    "import config as cfg\n",
    "import requests\n",
    "imageFile = {\"image\" : open(\"/Users/okanegemen/CulturalPlacesFindingProject/WhatsApp Image 2024-01-10 at 18.41.01.jpeg\",\"rb\")}\n",
    "\n",
    "try:\n",
    "\n",
    "\n",
    "    r = requests.post(f\"http://192.168.2.105:{cfg.PORT}/postData\", files=imageFile)\n",
    "\n",
    "except:\n",
    "    print(\"loss connection\")\n",
    "\n",
    "print(r.content)"
   ]
  },
  {
   "cell_type": "code",
   "execution_count": null,
   "metadata": {},
   "outputs": [],
   "source": [
    "getted = requests.get(f\"http://192.168.243.28:{cfg.PORT}/getPreds\")"
   ]
  },
  {
   "cell_type": "markdown",
   "metadata": {},
   "source": []
  },
  {
   "cell_type": "code",
   "execution_count": null,
   "metadata": {},
   "outputs": [],
   "source": [
    "getted.json()"
   ]
  },
  {
   "cell_type": "code",
   "execution_count": null,
   "metadata": {},
   "outputs": [],
   "source": []
  }
 ],
 "metadata": {
  "kernelspec": {
   "display_name": "Python 3.8.13 64-bit ('AI')",
   "language": "python",
   "name": "python3"
  },
  "language_info": {
   "codemirror_mode": {
    "name": "ipython",
    "version": 3
   },
   "file_extension": ".py",
   "mimetype": "text/x-python",
   "name": "python",
   "nbconvert_exporter": "python",
   "pygments_lexer": "ipython3",
   "version": "3.8.13"
  },
  "orig_nbformat": 4,
  "vscode": {
   "interpreter": {
    "hash": "096dbe33c55126c5d8db0f1b650aa2af6bd938a7d34f117fe790662238af3888"
   }
  }
 },
 "nbformat": 4,
 "nbformat_minor": 2
}
